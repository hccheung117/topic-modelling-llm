{
 "cells": [
  {
   "metadata": {},
   "cell_type": "markdown",
   "source": "# Keyword Embedding Generation"
  },
  {
   "metadata": {},
   "cell_type": "markdown",
   "source": "## Keyword Extraction"
  },
  {
   "cell_type": "code",
   "metadata": {},
   "source": [
    "import json\n",
    "\n",
    "import pandas as pd\n",
    "\n",
    "from llm import compute_embeddings\n",
    "\n",
    "df = pd.read_csv('data/stories_deduplicated_meta.csv')\n",
    "\n",
    "llm_keywords = df['llm_keywords'].apply(json.loads).explode()\n",
    "dev_keywords = df['dev_keywords'].apply(json.loads).explode()\n",
    "all_keywords = pd.concat([llm_keywords, dev_keywords]).dropna().unique()\n",
    "all_keywords"
   ],
   "outputs": [],
   "execution_count": null
  },
  {
   "metadata": {},
   "cell_type": "markdown",
   "source": "## Embedding Generation"
  },
  {
   "cell_type": "code",
   "metadata": {},
   "source": [
    "import numpy as np\n",
    "from tqdm import tqdm\n",
    "from embeddingio import EmbeddingStore\n",
    "\n",
    "BATCH_SIZE = 20\n",
    "DB_PATH = 'data/embeddings.db'\n",
    "\n",
    "final_keyword_embeddings = {}  # This dictionary will store all keyword embeddings (fetched or newly computed).\n",
    "keywords_to_process = all_keywords.tolist()\n",
    "\n",
    "with EmbeddingStore(db_path=DB_PATH) as store:\n",
    "    for i in tqdm(range(0, len(keywords_to_process), BATCH_SIZE), desc=\"Processing keyword embeddings\"):\n",
    "        batch_keywords = keywords_to_process[i:i + BATCH_SIZE]\n",
    "\n",
    "        # Fetch existing embeddings for the current batch.\n",
    "        existing_embeddings_in_batch = store.get_embeddings(batch_keywords)\n",
    "        final_keyword_embeddings.update(existing_embeddings_in_batch)\n",
    "\n",
    "        # Identify keywords for which embeddings need to be computed.\n",
    "        keywords_already_processed = set(existing_embeddings_in_batch.keys())\n",
    "        new_keywords_to_compute = [k for k in batch_keywords if k not in keywords_already_processed]\n",
    "\n",
    "        if new_keywords_to_compute:\n",
    "            new_computed_embedding_vectors = compute_embeddings(new_keywords_to_compute)\n",
    "\n",
    "            embeddings_to_add_to_store_list = []\n",
    "            for keyword, vector in zip(new_keywords_to_compute, new_computed_embedding_vectors):\n",
    "                # ensure vector is a np.ndarray(float32) before we use it anywhere\n",
    "                vector = np.asarray(vector, dtype=np.float32)\n",
    "\n",
    "                final_keyword_embeddings[keyword] = vector\n",
    "                embeddings_to_add_to_store_list.append((keyword, vector))\n",
    "\n",
    "            if embeddings_to_add_to_store_list:\n",
    "                store.add_embeddings(embeddings_to_add_to_store_list)\n",
    "\n",
    "final_keyword_embeddings"
   ],
   "outputs": [],
   "execution_count": null
  }
 ],
 "metadata": {
  "kernelspec": {
   "display_name": "topic-modelling-llm",
   "language": "python",
   "name": "python3"
  },
  "language_info": {
   "codemirror_mode": {
    "name": "ipython",
    "version": 3
   },
   "file_extension": ".py",
   "mimetype": "text/x-python",
   "name": "python",
   "nbconvert_exporter": "python",
   "pygments_lexer": "ipython3",
   "version": "3.12.9"
  }
 },
 "nbformat": 4,
 "nbformat_minor": 2
}
